{
  "cells": [
    {
      "cell_type": "code",
      "execution_count": 45,
      "metadata": {},
      "outputs": [],
      "source": [
        "# Gerekli kütüphaneleri içe aktar\n",
        "import pandas as pd\n",
        "import numpy as np\n",
        "import matplotlib.pyplot as plt\n",
        "import seaborn as sns\n",
        "from sklearn.model_selection import train_test_split\n",
        "from sklearn.ensemble import RandomForestClassifier\n",
        "from sklearn.metrics import accuracy_score, f1_score\n",
        "from sklearn.metrics import classification_report\n"
      ]
    },
    {
      "cell_type": "code",
      "execution_count": 21,
      "metadata": {
        "colab": {
          "base_uri": "https://localhost:8080/"
        },
        "id": "r2_RNRE6yR0K",
        "outputId": "1e0aba5f-ca19-4fc6-d280-31a0774b9924"
      },
      "outputs": [
        {
          "name": "stdout",
          "output_type": "stream",
          "text": [
            "   person_age   person_income  personhomeownership  personemplength  \\\n",
            "0          22           59000                 RENT            123.0   \n",
            "1          21            9600                  OWN              5.0   \n",
            "2          25            9600             MORTGAGE              1.0   \n",
            "3          23           65500                 RENT              4.0   \n",
            "4          24           54400                 RENT              8.0   \n",
            "\n",
            "   loan_intent  loan_grade   loan_amnt  loanintrate   loan_status  \\\n",
            "0     PERSONAL           D       35000        16.02             1   \n",
            "1    EDUCATION           B        1000        11.14             0   \n",
            "2      MEDICAL           C        5500        12.87             1   \n",
            "3      MEDICAL           C       35000        15.23             1   \n",
            "4      MEDICAL           C       35000        14.27             1   \n",
            "\n",
            "    loanpercentincome  cbpersondefaultonfile   cbpresoncredhistlength  \n",
            "0                0.59                      Y                        3  \n",
            "1                0.10                      N                        2  \n",
            "2                0.57                      N                        3  \n",
            "3                0.53                      N                        2  \n",
            "4                0.55                      Y                        4  \n"
          ]
        }
      ],
      "source": [
        "df = pd.read_csv('dataset.csv')\n",
        "\n",
        "print(df.head())\n"
      ]
    },
    {
      "cell_type": "code",
      "execution_count": 22,
      "metadata": {
        "colab": {
          "base_uri": "https://localhost:8080/"
        },
        "id": "aNpjNZmAyelq",
        "outputId": "1730e4a3-828e-483a-a40c-9d1b6de42d54"
      },
      "outputs": [
        {
          "name": "stdout",
          "output_type": "stream",
          "text": [
            "person_age                 0\n",
            " person_income             0\n",
            " personhomeownership       0\n",
            " personemplength           0\n",
            " loan_intent               0\n",
            " loan_grade                0\n",
            " loan_amnt                 0\n",
            " loanintrate               0\n",
            " loan_status               0\n",
            " loanpercentincome         0\n",
            " cbpersondefaultonfile     0\n",
            " cbpresoncredhistlength    0\n",
            "dtype: int64\n"
          ]
        }
      ],
      "source": [
        "# 1. Anomalileri temizle\n",
        "# Boş attributelere sahip satırları sil\n",
        "df.dropna(inplace=True)\n",
        "# Eksik verileri kontrol etme\n",
        "print(df.isnull().sum())"
      ]
    },
    {
      "cell_type": "code",
      "execution_count": 23,
      "metadata": {
        "colab": {
          "base_uri": "https://localhost:8080/"
        },
        "id": "a7-WBr1kzVEd",
        "outputId": "ec63d90f-b8ea-47f3-9c46-2ef49eb6a2b0"
      },
      "outputs": [
        {
          "name": "stdout",
          "output_type": "stream",
          "text": [
            "['person_age', ' person_income', ' personhomeownership', ' personemplength', ' loan_intent', ' loan_grade', ' loan_amnt', ' loanintrate', ' loan_status', ' loanpercentincome', ' cbpersondefaultonfile', ' cbpresoncredhistlength']\n"
          ]
        }
      ],
      "source": [
        "print(df.columns.tolist())"
      ]
    },
    {
      "cell_type": "code",
      "execution_count": 24,
      "metadata": {
        "colab": {
          "base_uri": "https://localhost:8080/"
        },
        "id": "L_75PkTY0Xyj",
        "outputId": "289fc3f2-f4da-4c2c-a2be-8b1376949f6f"
      },
      "outputs": [
        {
          "name": "stdout",
          "output_type": "stream",
          "text": [
            "['123.0' '5.0' '1.0' '4.0' '8.0' '2.0' '6.0' '7.0' '0.0' '9.0' '3.0'\n",
            " '10.0' '?' '11.0' '18.0' '12.0' '17.0' '14.0' '16.0' '13.0' '19.0' '15.0'\n",
            " '20.0' '22.0' '21.0' '24.0' '23.0' '26.0' '25.0' '27.0' '28.0' '31.0'\n",
            " '41.0' '34.0' '29.0' '38.0' '30.0']\n",
            "['16.02' '11.14' '12.87' '15.23' '14.27' '7.14' '12.42' '11.11' '8.9'\n",
            " '14.74' '10.37' '8.63' '7.9' '18.39' '10.65' '20.25' '18.25' '10.99'\n",
            " '7.49' '16.77' '17.58' '7.29' '14.54' '12.68' '17.74' '9.32' '9.99'\n",
            " '12.84' '11.12' '6.62' '14.17' '13.85' '13.49' '7.51' '16.89' '?' '17.99'\n",
            " '12.69' '7.88' '19.41' '10.38' '15.33' '16.45' '18.62' '15.96' '11.48'\n",
            " '5.99' '11.58' '15.7' '15.99' '14.84' '14.42' '6.99' '13.61' '9.91'\n",
            " '13.48' '12.98' '13.57' '15.68' '13.06' '15.62' '11.71' '8.88' '12.18'\n",
            " '13.99' '5.42' '12.73' '11.49' '19.91' '11.83' '14.59' '9.64' '16.35'\n",
            " '18.67' '10.08' '10.36' '12.23' '16.07' '14.22' '14.79' '13.22' '11.86'\n",
            " '13.43' '15.28' '17.93' '9.25' '10.62' '18.43' '11.36' '15.65' '13.04'\n",
            " '17.04' '14.83' '14.65' '16.82' '10.25' '14.96' '11.99' '8.49' '6.17'\n",
            " '16.32' '14.35' '15.21' '14.09' '17.49' '13.92' '16.49' '5.79' '13.11'\n",
            " '6.54' '12.53' '15.95' '10.74' '15.27' '14.72' '13.35' '7.68' '14.46'\n",
            " '13.47' '6.03' '12.92' '18.64' '16.7' '18.3' '9.63' '14.7' '15.37'\n",
            " '14.26' '8.0' '11.26' '19.04' '13.98' '15.58' '15.31' '9.33' '11.91'\n",
            " '8.38' '10.59' '16.0' '11.54' '12.61' '17.27' '15.05' '10.75' '6.39'\n",
            " '18.09' '19.74' '6.91' '14.93' '17.14' '11.03' '8.94' '11.46' '7.66'\n",
            " '17.56' '10.39' '16.29' '17.8' '19.69' '15.83' '20.03' '20.16' '13.79'\n",
            " '11.89' '14.5' '11.34' '9.62' '9.96' '18.99' '14.11' '17.19' '7.4'\n",
            " '17.51' '14.61' '21.21' '14.91' '17.26' '10.71' '10.0' '16.95' '11.97'\n",
            " '12.99' '13.16' '9.76' '11.22' '16.69' '12.21' '7.74' '11.78' '11.66'\n",
            " '19.79' '9.88' '13.87' '17.39' '12.29' '10.83' '15.2' '14.82' '14.88'\n",
            " '13.36' '6.76' '13.23' '9.45' '10.96' '13.72' '12.36' '11.41' '14.3'\n",
            " '10.91' '16.63' '6.92' '10.95' '8.7' '12.67' '12.41' '20.11' '14.18'\n",
            " '12.8' '13.24' '12.09' '17.15' '19.47' '7.91' '10.46' '7.37' '11.28'\n",
            " '8.59' '19.03' '15.57' '8.32' '10.14' '19.29' '11.63' '12.72' '13.8'\n",
            " '7.12' '13.3' '16.59' '21.27' '8.07' '9.67' '11.72' '12.22' '13.75'\n",
            " '9.38' '10.2' '16.4' '10.33' '12.54' '21.74' '7.43' '9.07' '6.0' '9.7'\n",
            " '10.01' '7.05' '10.28' '20.3' '13.67' '7.42' '19.42' '21.36' '12.17'\n",
            " '9.83' '18.79' '14.38' '7.75' '14.75' '10.51' '13.12' '17.88' '9.2'\n",
            " '11.59' '17.43' '13.93' '15.76' '18.21' '13.55' '15.13' '9.01' '16.08'\n",
            " '16.11' '14.12' '12.86' '19.39' '13.17' '15.45' '22.11' '12.62' '19.13'\n",
            " '12.49' '16.2' '18.84' '16.33' '19.82' '20.89' '10.78' '15.88' '19.16'\n",
            " '20.62' '20.2' '9.51' '14.67' '12.12' '12.04' '15.07' '17.06' '13.62'\n",
            " '20.48' '18.53' '17.9' '11.09' '13.84' '18.78' '15.01' '18.07' '17.03'\n",
            " '21.14' '17.46' '20.99' '21.64' '18.36' '20.17' '18.17' '22.06' '17.54'\n",
            " '17.44' '18.49' '20.86' '20.52' '15.25' '18.72' '20.9' '16.96' '15.38'\n",
            " '17.34' '14.62' '14.25' '14.07' '10.64' '22.48' '19.66' '23.22' '20.4'\n",
            " '16.71' '18.54' '20.69' '16.15' '20.53']\n"
          ]
        }
      ],
      "source": [
        "df.columns = df.columns.str.strip()\n",
        "print(df['personemplength'].unique())\n",
        "print(df['loanintrate'].unique())"
      ]
    },
    {
      "cell_type": "code",
      "execution_count": 33,
      "metadata": {
        "id": "b8goVQkjygvV"
      },
      "outputs": [],
      "source": [
        "# Bunu hem loanintrate hem de personemplength için yaptım\n",
        "\n",
        "df['loanintrate'] = df['loanintrate'].replace('?', np.nan)\n",
        "\n",
        "df['loanintrate'] = pd.to_numeric(df['loanintrate'], errors='coerce')\n",
        "\n",
        "df['personemplength'] = df['personemplength'].replace('?', np.nan)\n",
        "\n",
        "df['personemplength'] = pd.to_numeric(df['personemplength'], errors='coerce')"
      ]
    },
    {
      "cell_type": "code",
      "execution_count": 36,
      "metadata": {},
      "outputs": [],
      "source": [
        "# personemplength 60'ı geçmeyenleri tut\n",
        "df = df[df['personemplength'] <= 60]"
      ]
    },
    {
      "cell_type": "code",
      "execution_count": 37,
      "metadata": {
        "colab": {
          "base_uri": "https://localhost:8080/",
          "height": 472
        },
        "id": "Nfnn87ZT0zEB",
        "outputId": "c5cdd7bc-9bc6-4434-beb4-13610705b771"
      },
      "outputs": [
        {
          "data": {
            "image/png": "[encoded data removed]",
            "text/plain": [
              "<Figure size 800x600 with 1 Axes>"
            ]
          },
          "metadata": {},
          "output_type": "display_data"
        }
      ],
      "source": [
        "# 2. Loan Status dağılımını gösteren grafik\n",
        "plt.figure(figsize=(8, 6))\n",
        "sns.countplot(x='loan_status', data=df)\n",
        "plt.title('Loan Status Dağılımı')\n",
        "plt.xlabel('Loan Status')\n",
        "plt.ylabel('Frekans')\n",
        "plt.xticks([0, 1], ['0', '1'])\n",
        "plt.show()"
      ]
    },
    {
      "cell_type": "code",
      "execution_count": 38,
      "metadata": {},
      "outputs": [
        {
          "name": "stdout",
          "output_type": "stream",
          "text": [
            "Loan Status'u 0 olanların loanintrate ortalaması: 10.46\n"
          ]
        }
      ],
      "source": [
        "# 3. Loan Status'u 0 olanların loanintrate ortalamasını hesapla\n",
        "average_interest_rate = df[df['loan_status'] == 0]['loanintrate'].mean()\n",
        "print(f'Loan Status\\'u 0 olanların loanintrate ortalaması: {average_interest_rate:.2f}')"
      ]
    },
    {
      "cell_type": "code",
      "execution_count": 42,
      "metadata": {},
      "outputs": [],
      "source": [
        "# 4. Loanintrate'ı drop et \n",
        "df = df.drop(columns=['loanintrate'])"
      ]
    },
    {
      "cell_type": "code",
      "execution_count": 46,
      "metadata": {},
      "outputs": [
        {
          "name": "stdout",
          "output_type": "stream",
          "text": [
            "Accuracy: 0.94\n",
            "F1 Score: 0.83\n",
            "\n",
            "Classification Report:\n",
            "               precision    recall  f1-score   support\n",
            "\n",
            "           0       0.93      0.99      0.96      4991\n",
            "           1       0.97      0.72      0.83      1346\n",
            "\n",
            "    accuracy                           0.94      6337\n",
            "   macro avg       0.95      0.86      0.89      6337\n",
            "weighted avg       0.94      0.94      0.93      6337\n",
            "\n"
          ]
        }
      ],
      "source": [
        "# Kategorik verileri sayısal verilere dönüştürme\n",
        "df = pd.get_dummies(df, drop_first=True)\n",
        "\n",
        "# Özellik ve hedef değişkenleri belirle\n",
        "X = df.drop('loan_status', axis=1)  # Hedef değişkeni çıkar\n",
        "y = df['loan_status']  # Hedef değişken\n",
        "\n",
        "# Eğitim ve test setlerine ayır\n",
        "X_train, X_test, y_train, y_test = train_test_split(X, y, test_size=0.2, random_state=42)\n",
        "\n",
        "# Modeli oluştur ve eğit\n",
        "model = RandomForestClassifier(random_state=42)\n",
        "model.fit(X_train, y_train)\n",
        "\n",
        "# Tahmin yap\n",
        "y_pred = model.predict(X_test)\n",
        "\n",
        "# Accuracy ve F1 score hesapla\n",
        "accuracy = accuracy_score(y_test, y_pred)\n",
        "f1 = f1_score(y_test, y_pred)\n",
        "\n",
        "print(f\"Accuracy: {accuracy:.2f}\")\n",
        "print(f\"F1 Score: {f1:.2f}\")\n",
        "\n",
        "# Detaylı rapor\n",
        "print(\"\\nClassification Report:\\n\", classification_report(y_test, y_pred))"
      ]
    },
    {
      "cell_type": "code",
      "execution_count": 48,
      "metadata": {
        "id": "CoDHGHdzy61X"
      },
      "outputs": [
        {
          "data": {
            "image/png": "[encoded data removed]",
            "text/plain": [
              "<Figure size 1200x600 with 1 Axes>"
            ]
          },
          "metadata": {},
          "output_type": "display_data"
        }
      ],
      "source": [
        "# Temerrüt olasılıklarını elde etme\n",
        "predicted_default_probability = model.predict_proba(X_test)[:, 1]  # 1. sınıf olma olasılıkları\n",
        "\n",
        "# Yeni kredi faiz oranlarını hesaplama\n",
        "base_interest_rate = 0.11011694892245036  # Önceki modelden alınan örnek faiz oranı\n",
        "risk_adjustment_factor = 0.11011694892245036  # Temerrüt riskini ayarlamak için\n",
        "new_interest_rate = base_interest_rate + (risk_adjustment_factor * predicted_default_probability)\n",
        "\n",
        "# Sonuçları bir DataFrame'e ekleme\n",
        "result_df = pd.DataFrame({\n",
        "    'predicted_default_probability': predicted_default_probability,\n",
        "    'new_interest_rate_example': new_interest_rate\n",
        "})\n",
        "\n",
        "# Grafik oluşturma\n",
        "plt.figure(figsize=(12, 6))\n",
        "sns.scatterplot(x='predicted_default_probability', y='new_interest_rate_example', data=result_df, alpha=0.6)\n",
        "plt.title('Yeni Kredi Faiz Oranı ve Temerrüt Olasılığı İlişkisi')\n",
        "plt.xlabel('Temerrüt Olasılığı')\n",
        "plt.ylabel('Yeni Kredi Faiz Oranı (%)')\n",
        "plt.xlim(0, 1)  # Temerrüt olasılığı 0 ile 1 arasında\n",
        "plt.ylim(0, 0.3)  # Yeni kredi faiz oranı 0 ile %30 arasında\n",
        "plt.grid(True)\n",
        "plt.show()"
      ]
    },
    {
      "cell_type": "code",
      "execution_count": 49,
      "metadata": {},
      "outputs": [
        {
          "data": {
            "text/plain": [
              "['loan_status_model.pkl']"
            ]
          },
          "execution_count": 49,
          "metadata": {},
          "output_type": "execute_result"
        }
      ],
      "source": [
        "import joblib\n",
        "\n",
        "# Assuming 'model' is your trained model\n",
        "joblib.dump(model, 'loan_status_model.pkl')\n"
      ]
    },
    {
      "cell_type": "code",
      "execution_count": 19,
      "metadata": {},
      "outputs": [],
      "source": []
    }
  ],
  "metadata": {
    "colab": {
      "provenance": []
    },
    "kernelspec": {
      "display_name": "Python 3",
      "name": "python3"
    },
    "language_info": {
      "codemirror_mode": {
        "name": "ipython",
        "version": 3
      },
      "file_extension": ".py",
      "mimetype": "text/x-python",
      "name": "python",
      "nbconvert_exporter": "python",
      "pygments_lexer": "ipython3",
      "version": "3.11.9"
    }
  },
  "nbformat": 4,
  "nbformat_minor": 0
}
